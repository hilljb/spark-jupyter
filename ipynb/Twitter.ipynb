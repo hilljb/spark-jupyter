{
 "cells": [
  {
   "cell_type": "code",
   "execution_count": 1,
   "metadata": {
    "collapsed": false
   },
   "outputs": [],
   "source": [
    "from __future__ import print_function\n",
    "\n",
    "import requests\n",
    "from requests_oauthlib import OAuth1\n",
    "\n",
    "from urlparse import urlparse, urlunparse\n",
    "from urllib import urlencode\n",
    "from urllib import __version__ as urllib_version\n",
    "\n",
    "import simplejson as json\n",
    "\n",
    "import time\n",
    "from datetime import datetime\n",
    "import pytz\n",
    "\n",
    "import sys\n",
    "\n",
    "utc = pytz.utc"
   ]
  },
  {
   "cell_type": "markdown",
   "metadata": {},
   "source": [
    "The following oauth keys have been disabled and are here as an example only."
   ]
  },
  {
   "cell_type": "code",
   "execution_count": 2,
   "metadata": {
    "collapsed": false
   },
   "outputs": [],
   "source": [
    "credentials = {\n",
    "'consumer_key': 'rAVG6KNhMYFmdlMKH9o',\n",
    "'consumer_secret': '7uQA2s4YQrsrqPZp2xhujh54tWXBD4wRtyxEV6y7kHl',\n",
    "'access_token_key': '144654323-rumbBx4JCgwQQUArpRZ6XJSyigjhjukkkYeERoh9qm9oN1',\n",
    "'access_token_secret': 'Ihkn61Qfy0X6yaMbhbyzTEjNFfhdtWTKw70qyEOtTESQfdfdfN'}"
   ]
  },
  {
   "cell_type": "markdown",
   "metadata": {},
   "source": [
    "### Recent 200 Followers of a Twitter ID\n",
    "\n",
    "The following class uses the requests and requests_oauthlib packages to issue an html request to the Twitter REST API. It returns information about the 200 users to most recently follow a person/id on Twitter."
   ]
  },
  {
   "cell_type": "code",
   "execution_count": 4,
   "metadata": {
    "collapsed": true
   },
   "outputs": [],
   "source": [
    "class RecentFollowers(object):\n",
    "    \"\"\"\n",
    "    Class to query Twitter for 200 most recent followers of a user.\n",
    "    \"\"\"\n",
    "    def __init__(self, user_id):\n",
    "        \"\"\"\n",
    "        Initialize the class. Bring in and set config vars.\n",
    "        \"\"\"\n",
    "        self._user_agent = 'Python-urllib/%s' % urllib_version\n",
    "        self._url = 'https://api.twitter.com/1.1/followers/list.json'\n",
    "        self._oauth = OAuth1(\n",
    "            credentials['consumer_key'],\n",
    "            credentials['consumer_secret'],\n",
    "            credentials['access_token_key'],\n",
    "            credentials['access_token_secret'])\n",
    "        self._parameters = {\n",
    "            'user_id': user_id,\n",
    "            'count': int(200),\n",
    "            'skip_status': False,\n",
    "            'include_user_entities': True,\n",
    "            'cursor': -1\n",
    "        }\n",
    "\n",
    "    def get(self):\n",
    "        \"\"\"\n",
    "        Issue the get request to the Twitter API and parse the response.\n",
    "        \"\"\"\n",
    "        # Parse the URL into components        \n",
    "        (scheme, netloc, path, params, query, fragment) = urlparse(self._url)\n",
    "        # Use parameters to encode request and add to URL\n",
    "        encoded_params = urlencode(\n",
    "            dict(\n",
    "                [(k, str(v).encode('utf-8')) for k, v in list(self._parameters.items())]\n",
    "            )\n",
    "        )\n",
    "        if query:\n",
    "            query += '&' + encoded_params\n",
    "        else:\n",
    "            query = encoded_params\n",
    "        # Form the URL\n",
    "        url = urlunparse((scheme, netloc, path, params, query, fragment))\n",
    "        # Issue the request\n",
    "        resp = requests.get(url, auth=self._oauth)\n",
    "        # Get the response code\n",
    "        resp_code = resp.status_code\n",
    "        # Get the data\n",
    "        resp_data = resp.content.decode('utf-8')\n",
    "\n",
    "        # Return a tuple of response code and data\n",
    "        return (resp_code, resp_data)"
   ]
  },
  {
   "cell_type": "markdown",
   "metadata": {},
   "source": [
    "### Execute\n",
    "\n",
    "Notice that there are two components in the get method: the response code and the response data. If the code is 200, you have received a valid response. Otherwises, it's probably time to debug. The data is a single JSON blob."
   ]
  },
  {
   "cell_type": "code",
   "execution_count": 7,
   "metadata": {
    "collapsed": false
   },
   "outputs": [
    {
     "name": "stdout",
     "output_type": "stream",
     "text": [
      "data loaded\n",
      "data parsed\n"
     ]
    }
   ],
   "source": [
    "# Hillary's user id is 1339835893\n",
    "hillary_followers = RecentFollowers(user_id=1339835893)\n",
    "(resp_code, resp_data) = hillary_followers.get()\n",
    "if resp_code == 200:\n",
    "    print(\"data loaded\")\n",
    "json_data = json.loads(resp_data)\n",
    "print(\"data parsed\")"
   ]
  },
  {
   "cell_type": "code",
   "execution_count": 11,
   "metadata": {
    "collapsed": false
   },
   "outputs": [
    {
     "data": {
      "text/plain": [
       "200"
      ]
     },
     "execution_count": 11,
     "metadata": {},
     "output_type": "execute_result"
    }
   ],
   "source": [
    "len(json_data['users'])"
   ]
  },
  {
   "cell_type": "markdown",
   "metadata": {},
   "source": [
    "### Streaming Filter API\n",
    "The class below and example show how to use the streaming filter API. This is generally best run outside of Jupyter, as the stream process will block the kernel. I tend to collect data in a screened process to files on disk. You could use Spark Streaming to detect and load those files."
   ]
  },
  {
   "cell_type": "code",
   "execution_count": 34,
   "metadata": {
    "collapsed": false
   },
   "outputs": [],
   "source": [
    "class Stream(object):\n",
    "    \"\"\"\n",
    "    Class to query Twitter's streaming API.\n",
    "    \"\"\"\n",
    "    def __init__(self, follow=None, track=None):\n",
    "        \"\"\"\n",
    "        Initialize the class. Bring in and set config vars.\n",
    "        \"\"\"\n",
    "        # Parse input options\n",
    "        if follow is None and track is None:\n",
    "            raise ValueError({'message': \"follow or track filter must be specified.\"})\n",
    "        # Get config\n",
    "        self._user_agent = 'Python-urllib/%s' % urllib_version\n",
    "        self._url = 'https://stream.twitter.com/1.1/statuses/filter.json'\n",
    "        self._oauth = OAuth1(\n",
    "            credentials['consumer_key'],\n",
    "            credentials['consumer_secret'],\n",
    "            credentials['access_token_key'],\n",
    "            credentials['access_token_secret'])\n",
    "        self._parameters = {\n",
    "            'stall_warnings': str(True)\n",
    "        }\n",
    "        if follow:\n",
    "            self._parameters['follow'] = ','.join(follow)\n",
    "        if track:\n",
    "            self._parameters['track'] = ','.join(track)\n",
    "    \n",
    "    def get(self):\n",
    "        try:\n",
    "            return requests.post(self._url, data=self._parameters, stream=True, auth=self._oauth, timeout=60)\n",
    "        except Exception as e:\n",
    "            print(\"exception: %s\" % str(e))"
   ]
  },
  {
   "cell_type": "code",
   "execution_count": 35,
   "metadata": {
    "collapsed": false
   },
   "outputs": [],
   "source": [
    "stream_data = Stream(track=['data','spark'])"
   ]
  },
  {
   "cell_type": "markdown",
   "metadata": {},
   "source": [
    "#### Streamed Data\n",
    "Each line is a response, but you need to use iter_lines on the returned data to form the responses into complete lines. Otherwise, entries may be split between lines. Also, there are no commas between responses, just line breaks."
   ]
  },
  {
   "cell_type": "code",
   "execution_count": 39,
   "metadata": {
    "collapsed": false
   },
   "outputs": [
    {
     "name": "stdout",
     "output_type": "stream",
     "text": [
      "\n",
      "start --{\"created_at\":\"Tue May 17 02:42:29 +0000 2016\",\"id\":732400871733088256,\"id_str\":\"732400871733088256\",\"text\":\"#GARMIN Power\\/data Cable, MFG#010-10083-00, Used With GPS-126\\/128\\/152 and GPSMAP-162\\/182\\/182C. \\/ GA-0101008300 https:\\/\\/t.co\\/aaoWPiIUHr\",\"source\":\"\\u003ca href=\\\"http:\\/\\/socialsharinglink.com\\\" rel=\\\"nofollow\\\"\\u003eCreate Deal Alerts for PC Access\\u003c\\/a\\u003e\",\"truncated\":false,\"in_reply_to_status_id\":null,\"in_reply_to_status_id_str\":null,\"in_reply_to_user_id\":null,\"in_reply_to_user_id_str\":null,\"in_reply_to_screen_name\":null,\"user\":{\"id\":4798505853,\"id_str\":\"4798505853\",\"name\":\"PC Accessory Deals\",\"screen_name\":\"pcaccessoryusa\",\"location\":null,\"url\":null,\"description\":null,\"protected\":false,\"verified\":false,\"followers_count\":144,\"friends_count\":0,\"listed_count\":160,\"favourites_count\":0,\"statuses_count\":101023,\"created_at\":\"Wed Jan 13 23:11:06 +0000 2016\",\"utc_offset\":null,\"time_zone\":null,\"geo_enabled\":false,\"lang\":\"en\",\"contributors_enabled\":false,\"is_translator\":false,\"profile_background_color\":\"F5F8FA\",\"profile_background_image_url\":\"\",\"profile_background_image_url_https\":\"\",\"profile_background_tile\":false,\"profile_link_color\":\"2B7BB9\",\"profile_sidebar_border_color\":\"C0DEED\",\"profile_sidebar_fill_color\":\"DDEEF6\",\"profile_text_color\":\"333333\",\"profile_use_background_image\":true,\"profile_image_url\":\"http:\\/\\/pbs.twimg.com\\/profile_images\\/687411773541117952\\/tqkjPd4Q_normal.jpg\",\"profile_image_url_https\":\"https:\\/\\/pbs.twimg.com\\/profile_images\\/687411773541117952\\/tqkjPd4Q_normal.jpg\",\"default_profile\":true,\"default_profile_image\":false,\"following\":null,\"follow_request_sent\":null,\"notifications\":null},\"geo\":null,\"coordinates\":null,\"place\":null,\"contributors\":null,\"is_quote_status\":false,\"retweet_count\":0,\"favorite_count\":0,\"entities\":{\"hashtags\":[{\"text\":\"GARMIN\",\"indices\":[0,7]}],\"urls\":[{\"url\":\"https:\\/\\/t.co\\/aaoWPiIUHr\",\"expanded_url\":\"http:\\/\\/rover.ebay.com\\/rover\\/1\\/711-53200-19255-0\\/1?icep_ff3=9&pub=5575101285&toolid=10001&campid=5337851710&customid=pcaccessoryusa&icep_uq=GARMIN+Power%2Fdata+cable+MFG%23+010+10083+00+Used+with&icep_sellerId=&icep_ex_kw=&icep_sortBy=12&icep_catId=&icep_minPrice=&icep_maxPrice=&ipn=psmain&icep_vectorid=229466&kwid=902099&mtid=824&kw=lg\",\"display_url\":\"rover.ebay.com\\/rover\\/1\\/711-53\\u2026\",\"indices\":[111,134]}],\"user_mentions\":[],\"symbols\":[]},\"favorited\":false,\"retweeted\":false,\"possibly_sensitive\":false,\"filter_level\":\"low\",\"lang\":\"en\",\"timestamp_ms\":\"1463452949828\"}-- end\n",
      "\n",
      "\n",
      "start --{\"created_at\":\"Tue May 17 02:42:29 +0000 2016\",\"id\":732400872072699904,\"id_str\":\"732400872072699904\",\"text\":\"RT @maroshow: \\u30a2\\u30d5\\u30e9\\u30c3\\u30af\\u306eCM\\u6a2a\\u6d5c\\u3058\\u3083\\u3093\\u2728\\n\\u3053\\u306e\\u524d\\u884c\\u3063\\u305f\\u3068\\u304d\\u4f55\\u304b\\u64ae\\u5f71\\u3057\\u3066\\u305f\\u306e\\u3063\\u3066\\u3082\\u3057\\u304b\\u3057\\u305f\\u3089\\u305d\\u3046\\u3060\\u3063\\u305f\\u306e\\u304b\\u306a\\uff1f\\n\\u305d\\u3046\\u3060\\u3063\\u305f\\u3089\\u30b7\\u30e7\\u30c3\\u30af\\u2026\\u7b11\\n\\u4f55\\u3082\\u7121\\u3044\\u3068\\u304d\\u306f\\u30ab\\u30d5\\u30a7\\u306b\\u306a\\u3063\\u3066\\u308b\\u3089\\u3057\\u3044\\u304b\\u3089\\u53c2\\u8003\\u306b\\ud83c\\udfb5\\nhttps:\\/\\/t.co\\/7NL5YoR20z https:\\/\\/t.co\\/X\\u2026\",\"source\":\"\\u003ca href=\\\"http:\\/\\/twitter.com\\/download\\/android\\\" rel=\\\"nofollow\\\"\\u003eTwitter for Android\\u003c\\/a\\u003e\",\"truncated\":false,\"in_reply_to_status_id\":null,\"in_reply_to_status_id_str\":null,\"in_reply_to_user_id\":null,\"in_reply_to_user_id_str\":null,\"in_reply_to_screen_name\":null,\"user\":{\"id\":820558706,\"id_str\":\"820558706\",\"name\":\"\\u3042\\u3084\\u3053\",\"screen_name\":\"ayamasa1103\",\"location\":null,\"url\":null,\"description\":\"\\u5357\\u306e\\u5cf6\\u306b\\u5728\\u4f4f\\u3002\\u30a2\\u30e9\\u30b5\\u30fc\\u306e\\u30ad\\u30e9\\u30ad\\u30e9\\u306a\\uff15\\u4eba\\u3001\\u30de\\u30ca\\u30d6\\u306e\\u4eba\\u306b\\u7570\\u5e38\\u306b\\u53cd\\u5fdc(^o^)v\\u30c4\\u30a4\\u521d\\u5fc3\\u8005\\u3067line\\u3001\\u30df\\u30af\\u3084\\u3063\\u3066\\u307e\\u3059\\uff5e(*\\u2267\\u2200\\u2266*)\\nRT\\u591a\\u3081\\u3067\\u6642\\u3005\\u545f\\u304d\\u307e\\u3059\\u3002\\u30d5\\u30a9\\u30ed\\u30ef\\u30fc\\u3055\\u3093\\u3001\\u305f\\u304f\\u3055\\u3093\\u306f\\u6c42\\u3081\\u306a\\u3044\\u306e\\u3067\\u57a2\\u304c\\u30a2\\u30e4\\u30b7\\u30a4\\u65b9\\u3084\\u8208\\u5473\\u306a\\u3044\\u65b9\\u9762\\u306e\\u65b9\\u306f\\u7d61\\u3081\\u306a\\u3044\\u306e\\u3067\\u30d6\\u30ed\\u30c3\\u30af\\u3002\\u307e\\u305f\\u3001\\u9375\\u4ed8\\u304d\\u306e\\u65b9\\u3044\\u304d\\u306a\\u308a\\u30d5\\u30a9\\u30ed\\u30fc\\u3082\\u30d6\\u30ed\\u30c3\\u30af\\u3057\\u307e\\u3059\\u2757\\u4e00\\u58f0\\u4e0b\\u3055\\u3044\\u306d\",\"protected\":false,\"verified\":false,\"followers_count\":114,\"friends_count\":358,\"listed_count\":2,\"favourites_count\":29723,\"statuses_count\":37283,\"created_at\":\"Wed Sep 12 23:55:56 +0000 2012\",\"utc_offset\":null,\"time_zone\":null,\"geo_enabled\":false,\"lang\":\"ja\",\"contributors_enabled\":false,\"is_translator\":false,\"profile_background_color\":\"C0DEED\",\"profile_background_image_url\":\"http:\\/\\/abs.twimg.com\\/images\\/themes\\/theme1\\/bg.png\",\"profile_background_image_url_https\":\"https:\\/\\/abs.twimg.com\\/images\\/themes\\/theme1\\/bg.png\",\"profile_background_tile\":false,\"profile_link_color\":\"0084B4\",\"profile_sidebar_border_color\":\"C0DEED\",\"profile_sidebar_fill_color\":\"DDEEF6\",\"profile_text_color\":\"333333\",\"profile_use_background_image\":true,\"profile_image_url\":\"http:\\/\\/pbs.twimg.com\\/profile_images\\/432553433254473728\\/1ugUrvK-_normal.jpeg\",\"profile_image_url_https\":\"https:\\/\\/pbs.twimg.com\\/profile_images\\/432553433254473728\\/1ugUrvK-_normal.jpeg\",\"default_profile\":true,\"default_profile_image\":false,\"following\":null,\"follow_request_sent\":null,\"notifications\":null},\"geo\":null,\"coordinates\":null,\"place\":null,\"contributors\":null,\"retweeted_status\":{\"created_at\":\"Tue May 17 02:31:08 +0000 2016\",\"id\":732398013524508673,\"id_str\":\"732398013524508673\",\"text\":\"\\u30a2\\u30d5\\u30e9\\u30c3\\u30af\\u306eCM\\u6a2a\\u6d5c\\u3058\\u3083\\u3093\\u2728\\n\\u3053\\u306e\\u524d\\u884c\\u3063\\u305f\\u3068\\u304d\\u4f55\\u304b\\u64ae\\u5f71\\u3057\\u3066\\u305f\\u306e\\u3063\\u3066\\u3082\\u3057\\u304b\\u3057\\u305f\\u3089\\u305d\\u3046\\u3060\\u3063\\u305f\\u306e\\u304b\\u306a\\uff1f\\n\\u305d\\u3046\\u3060\\u3063\\u305f\\u3089\\u30b7\\u30e7\\u30c3\\u30af\\u2026\\u7b11\\n\\u4f55\\u3082\\u7121\\u3044\\u3068\\u304d\\u306f\\u30ab\\u30d5\\u30a7\\u306b\\u306a\\u3063\\u3066\\u308b\\u3089\\u3057\\u3044\\u304b\\u3089\\u53c2\\u8003\\u306b\\ud83c\\udfb5\\nhttps:\\/\\/t.co\\/7NL5YoR20z https:\\/\\/t.co\\/XM9WwrHdnN\",\"source\":\"\\u003ca href=\\\"http:\\/\\/twitter.com\\/download\\/android\\\" rel=\\\"nofollow\\\"\\u003eTwitter for Android\\u003c\\/a\\u003e\",\"truncated\":false,\"in_reply_to_status_id\":null,\"in_reply_to_status_id_str\":null,\"in_reply_to_user_id\":null,\"in_reply_to_user_id_str\":null,\"in_reply_to_screen_name\":null,\"user\":{\"id\":252003249,\"id_str\":\"252003249\",\"name\":\"\\u307e\\u308d\\u3055\\u3093\",\"screen_name\":\"maroshow\",\"location\":\"\\u548c\\u304f\\u3093\\u5bc4\\u308a\\u306e\\u7fd4\\u3055\\u3093\\u2661 \\u78c1\\u77f3\\u7d61\\u307f\\u5927\\u597d\\u304d\\u2661           \",\"url\":null,\"description\":\"\\u3010\\u3010\\u30d5\\u30a9\\u30ed\\u30fc\\u524d\\u306b\\u3011\\u3011\\n\\u5fc5\\u305a\\u904e\\u53bb\\u30c4\\u30a4\\u898b\\u3066\\u30d5\\u30a9\\u30ed\\u30fc\\u3057\\u305f\\u304b\\u3063\\u305f\\u3089\\u30d5\\u30a9\\u30ed\\u30fc\\u3057\\u3066\\u4e0b\\u3055\\u3044\\uff01\\u53bb\\u308b\\u3082\\u306e\\u5373\\u30d6\\u30ed\\u30c3\\u30af\\uff3c(^^)\\uff0f\\n\\u4eca\\u306f\\u30d5\\u30a9\\u30ed\\u30ea\\u30af\\u53d7\\u3051\\u4ed8\\u3051\\u3066\\u307e\\u305b\\u3093\\u304c\\u7d61\\u307f\\u591a\\u304f\\u306a\\u308c\\u3070\\u81ea\\u5206\\u304b\\u3089\\u304a\\u8fce\\u3048\\u306b\\u884c\\u304d\\u307e\\u3059\\u2661\\n 86\\u5e74\\u7d44\\u2661 Jr.\\u6642\\u4ee3\\uff5e\\u2661 \\u6d3b\\u52d5\\u958b\\u59cb2007.02\\uff5e\\u2661\\u30ed\\u30b1\\u5730\\u5de1\\u308a\\u5927\\u597d\\u304d\\u2661Japonesque\\u597d\\u304d\\u3059\\u304e\\u2661\",\"protected\":false,\"verified\":false,\"followers_count\":2810,\"friends_count\":286,\"listed_count\":24,\"favourites_count\":4354,\"statuses_count\":19755,\"created_at\":\"Mon Feb 14 08:34:45 +0000 2011\",\"utc_offset\":32400,\"time_zone\":\"Tokyo\",\"geo_enabled\":false,\"lang\":\"ja\",\"contributors_enabled\":false,\"is_translator\":false,\"profile_background_color\":\"EDED1A\",\"profile_background_image_url\":\"http:\\/\\/abs.twimg.com\\/images\\/themes\\/theme11\\/bg.gif\",\"profile_background_image_url_https\":\"https:\\/\\/abs.twimg.com\\/images\\/themes\\/theme11\\/bg.gif\",\"profile_background_tile\":true,\"profile_link_color\":\"B40B43\",\"profile_sidebar_border_color\":\"FFFFFF\",\"profile_sidebar_fill_color\":\"DDEEF6\",\"profile_text_color\":\"333333\",\"profile_use_background_image\":true,\"profile_image_url\":\"http:\\/\\/pbs.twimg.com\\/profile_images\\/708704857331380224\\/AISmtOMf_normal.jpg\",\"profile_image_url_https\":\"https:\\/\\/pbs.twimg.com\\/profile_images\\/708704857331380224\\/AISmtOMf_normal.jpg\",\"profile_banner_url\":\"https:\\/\\/pbs.twimg.com\\/profile_banners\\/252003249\\/1452344576\",\"default_profile\":false,\"default_profile_image\":false,\"following\":null,\"follow_request_sent\":null,\"notifications\":null},\"geo\":null,\"coordinates\":null,\"place\":null,\"contributors\":null,\"is_quote_status\":false,\"retweet_count\":1,\"favorite_count\":2,\"entities\":{\"hashtags\":[],\"urls\":[{\"url\":\"https:\\/\\/t.co\\/7NL5YoR20z\",\"expanded_url\":\"http:\\/\\/yokohamacc.org\\/m\\/data.cgi?id=cafe_omnibus\",\"display_url\":\"yokohamacc.org\\/m\\/data.cgi?id=\\u2026\",\"indices\":[87,110]}],\"user_mentions\":[],\"symbols\":[],\"media\":[{\"id\":732397964727963648,\"id_str\":\"732397964727963648\",\"indices\":[111,134],\"media_url\":\"http:\\/\\/pbs.twimg.com\\/media\\/CioAEYnUUAAMI_H.jpg\",\"media_url_https\":\"https:\\/\\/pbs.twimg.com\\/media\\/CioAEYnUUAAMI_H.jpg\",\"url\":\"https:\\/\\/t.co\\/XM9WwrHdnN\",\"display_url\":\"pic.twitter.com\\/XM9WwrHdnN\",\"expanded_url\":\"http:\\/\\/twitter.com\\/maroshow\\/status\\/732398013524508673\\/photo\\/1\",\"type\":\"photo\",\"sizes\":{\"small\":{\"w\":340,\"h\":191,\"resize\":\"fit\"},\"thumb\":{\"w\":150,\"h\":150,\"resize\":\"crop\"},\"medium\":{\"w\":600,\"h\":338,\"resize\":\"fit\"},\"large\":{\"w\":1024,\"h\":576,\"resize\":\"fit\"}}}]},\"extended_entities\":{\"media\":[{\"id\":732397964727963648,\"id_str\":\"732397964727963648\",\"indices\":[111,134],\"media_url\":\"http:\\/\\/pbs.twimg.com\\/media\\/CioAEYnUUAAMI_H.jpg\",\"media_url_https\":\"https:\\/\\/pbs.twimg.com\\/media\\/CioAEYnUUAAMI_H.jpg\",\"url\":\"https:\\/\\/t.co\\/XM9WwrHdnN\",\"display_url\":\"pic.twitter.com\\/XM9WwrHdnN\",\"expanded_url\":\"http:\\/\\/twitter.com\\/maroshow\\/status\\/732398013524508673\\/photo\\/1\",\"type\":\"photo\",\"sizes\":{\"small\":{\"w\":340,\"h\":191,\"resize\":\"fit\"},\"thumb\":{\"w\":150,\"h\":150,\"resize\":\"crop\"},\"medium\":{\"w\":600,\"h\":338,\"resize\":\"fit\"},\"large\":{\"w\":1024,\"h\":576,\"resize\":\"fit\"}}},{\"id\":732397984663535617,\"id_str\":\"732397984663535617\",\"indices\":[111,134],\"media_url\":\"http:\\/\\/pbs.twimg.com\\/media\\/CioAFi4VAAE15Pz.jpg\",\"media_url_https\":\"https:\\/\\/pbs.twimg.com\\/media\\/CioAFi4VAAE15Pz.jpg\",\"url\":\"https:\\/\\/t.co\\/XM9WwrHdnN\",\"display_url\":\"pic.twitter.com\\/XM9WwrHdnN\",\"expanded_url\":\"http:\\/\\/twitter.com\\/maroshow\\/status\\/732398013524508673\\/photo\\/1\",\"type\":\"photo\",\"sizes\":{\"small\":{\"w\":340,\"h\":191,\"resize\":\"fit\"},\"medium\":{\"w\":600,\"h\":338,\"resize\":\"fit\"},\"large\":{\"w\":1024,\"h\":576,\"resize\":\"fit\"},\"thumb\":{\"w\":150,\"h\":150,\"resize\":\"crop\"}}},{\"id\":732398010966007810,\"id_str\":\"732398010966007810\",\"indices\":[111,134],\"media_url\":\"http:\\/\\/pbs.twimg.com\\/media\\/CioAHE3U4AIecwz.jpg\",\"media_url_https\":\"https:\\/\\/pbs.twimg.com\\/media\\/CioAHE3U4AIecwz.jpg\",\"url\":\"https:\\/\\/t.co\\/XM9WwrHdnN\",\"display_url\":\"pic.twitter.com\\/XM9WwrHdnN\",\"expanded_url\":\"http:\\/\\/twitter.com\\/maroshow\\/status\\/732398013524508673\\/photo\\/1\",\"type\":\"photo\",\"sizes\":{\"thumb\":{\"w\":150,\"h\":150,\"resize\":\"crop\"},\"medium\":{\"w\":320,\"h\":240,\"resize\":\"fit\"},\"small\":{\"w\":320,\"h\":240,\"resize\":\"fit\"},\"large\":{\"w\":320,\"h\":240,\"resize\":\"fit\"}}}]},\"favorited\":false,\"retweeted\":false,\"possibly_sensitive\":false,\"filter_level\":\"low\",\"lang\":\"ja\"},\"is_quote_status\":false,\"retweet_count\":0,\"favorite_count\":0,\"entities\":{\"hashtags\":[],\"urls\":[{\"url\":\"https:\\/\\/t.co\\/7NL5YoR20z\",\"expanded_url\":\"http:\\/\\/yokohamacc.org\\/m\\/data.cgi?id=cafe_omnibus\",\"display_url\":\"yokohamacc.org\\/m\\/data.cgi?id=\\u2026\",\"indices\":[101,124]}],\"user_mentions\":[{\"screen_name\":\"maroshow\",\"name\":\"\\u307e\\u308d\\u3055\\u3093\",\"id\":252003249,\"id_str\":\"252003249\",\"indices\":[3,12]}],\"symbols\":[],\"media\":[{\"id\":732397964727963648,\"id_str\":\"732397964727963648\",\"indices\":[125,140],\"media_url\":\"http:\\/\\/pbs.twimg.com\\/media\\/CioAEYnUUAAMI_H.jpg\",\"media_url_https\":\"https:\\/\\/pbs.twimg.com\\/media\\/CioAEYnUUAAMI_H.jpg\",\"url\":\"https:\\/\\/t.co\\/XM9WwrHdnN\",\"display_url\":\"pic.twitter.com\\/XM9WwrHdnN\",\"expanded_url\":\"http:\\/\\/twitter.com\\/maroshow\\/status\\/732398013524508673\\/photo\\/1\",\"type\":\"photo\",\"sizes\":{\"small\":{\"w\":340,\"h\":191,\"resize\":\"fit\"},\"thumb\":{\"w\":150,\"h\":150,\"resize\":\"crop\"},\"medium\":{\"w\":600,\"h\":338,\"resize\":\"fit\"},\"large\":{\"w\":1024,\"h\":576,\"resize\":\"fit\"}},\"source_status_id\":732398013524508673,\"source_status_id_str\":\"732398013524508673\",\"source_user_id\":252003249,\"source_user_id_str\":\"252003249\"}]},\"extended_entities\":{\"media\":[{\"id\":732397964727963648,\"id_str\":\"732397964727963648\",\"indices\":[125,140],\"media_url\":\"http:\\/\\/pbs.twimg.com\\/media\\/CioAEYnUUAAMI_H.jpg\",\"media_url_https\":\"https:\\/\\/pbs.twimg.com\\/media\\/CioAEYnUUAAMI_H.jpg\",\"url\":\"https:\\/\\/t.co\\/XM9WwrHdnN\",\"display_url\":\"pic.twitter.com\\/XM9WwrHdnN\",\"expanded_url\":\"http:\\/\\/twitter.com\\/maroshow\\/status\\/732398013524508673\\/photo\\/1\",\"type\":\"photo\",\"sizes\":{\"small\":{\"w\":340,\"h\":191,\"resize\":\"fit\"},\"thumb\":{\"w\":150,\"h\":150,\"resize\":\"crop\"},\"medium\":{\"w\":600,\"h\":338,\"resize\":\"fit\"},\"large\":{\"w\":1024,\"h\":576,\"resize\":\"fit\"}},\"source_status_id\":732398013524508673,\"source_status_id_str\":\"732398013524508673\",\"source_user_id\":252003249,\"source_user_id_str\":\"252003249\"},{\"id\":732397984663535617,\"id_str\":\"732397984663535617\",\"indices\":[125,140],\"media_url\":\"http:\\/\\/pbs.twimg.com\\/media\\/CioAFi4VAAE15Pz.jpg\",\"media_url_https\":\"https:\\/\\/pbs.twimg.com\\/media\\/CioAFi4VAAE15Pz.jpg\",\"url\":\"https:\\/\\/t.co\\/XM9WwrHdnN\",\"display_url\":\"pic.twitter.com\\/XM9WwrHdnN\",\"expanded_url\":\"http:\\/\\/twitter.com\\/maroshow\\/status\\/732398013524508673\\/photo\\/1\",\"type\":\"photo\",\"sizes\":{\"small\":{\"w\":340,\"h\":191,\"resize\":\"fit\"},\"medium\":{\"w\":600,\"h\":338,\"resize\":\"fit\"},\"large\":{\"w\":1024,\"h\":576,\"resize\":\"fit\"},\"thumb\":{\"w\":150,\"h\":150,\"resize\":\"crop\"}},\"source_status_id\":732398013524508673,\"source_status_id_str\":\"732398013524508673\",\"source_user_id\":252003249,\"source_user_id_str\":\"252003249\"},{\"id\":732398010966007810,\"id_str\":\"732398010966007810\",\"indices\":[125,140],\"media_url\":\"http:\\/\\/pbs.twimg.com\\/media\\/CioAHE3U4AIecwz.jpg\",\"media_url_https\":\"https:\\/\\/pbs.twimg.com\\/media\\/CioAHE3U4AIecwz.jpg\",\"url\":\"https:\\/\\/t.co\\/XM9WwrHdnN\",\"display_url\":\"pic.twitter.com\\/XM9WwrHdnN\",\"expanded_url\":\"http:\\/\\/twitter.com\\/maroshow\\/status\\/732398013524508673\\/photo\\/1\",\"type\":\"photo\",\"sizes\":{\"thumb\":{\"w\":150,\"h\":150,\"resize\":\"crop\"},\"medium\":{\"w\":320,\"h\":240,\"resize\":\"fit\"},\"small\":{\"w\":320,\"h\":240,\"resize\":\"fit\"},\"large\":{\"w\":320,\"h\":240,\"resize\":\"fit\"}},\"source_status_id\":732398013524508673,\"source_status_id_str\":\"732398013524508673\",\"source_user_id\":252003249,\"source_user_id_str\":\"252003249\"}]},\"favorited\":false,\"retweeted\":false,\"possibly_sensitive\":false,\"filter_level\":\"low\",\"lang\":\"ja\",\"timestamp_ms\":\"1463452949909\"}-- end\n",
      "\n",
      "\n",
      "start --{\"created_at\":\"Tue May 17 02:42:30 +0000 2016\",\"id\":732400872630542336,\"id_str\":\"732400872630542336\",\"text\":\"RT @aciddrop0904: 160507 &lt;DATA 4PICS UPDATE&gt; \\n\\uc778\\ucc9c \\ucd9c\\uad6d \\ud83d\\udeeb\\ud83d\\udc95\\n\\n#Mark #\\ub9c8\\ud06c #GOT7 #\\uac13\\uc138\\ube10 https:\\/\\/t.co\\/i39eAaAmHA\",\"source\":\"\\u003ca href=\\\"http:\\/\\/twitter.com\\/download\\/iphone\\\" rel=\\\"nofollow\\\"\\u003eTwitter for iPhone\\u003c\\/a\\u003e\",\"truncated\":false,\"in_reply_to_status_id\":null,\"in_reply_to_status_id_str\":null,\"in_reply_to_user_id\":null,\"in_reply_to_user_id_str\":null,\"in_reply_to_screen_name\":null,\"user\":{\"id\":2819896465,\"id_str\":\"2819896465\",\"name\":\"GOT7\\u2661\\u0e41\\u0e08\\u0e01\\u0e31\\u0e07\",\"screen_name\":\"KittiwikaMook\",\"location\":\"JYP\",\"url\":\"https:\\/\\/www.instagram.com\\/mmookk2b\\/\",\"description\":\"MarkBam \\u2665\\ufe0e | IGOT7 & EXO-L \\u2661 | \\ub514\\uc624 \\u2661 | \\ubc40\\ubc40 \\u2665\\ufe0e | Matcha \\u2661 | \\u2665\\ufe0e \\u0e40\\u0e25\\u0e34\\u0e49\\u0e1a\\u0e19\\u0e30 @bambam1a | GOT7 |\",\"protected\":false,\"verified\":false,\"followers_count\":207,\"friends_count\":612,\"listed_count\":3,\"favourites_count\":1153,\"statuses_count\":63187,\"created_at\":\"Fri Sep 19 11:44:14 +0000 2014\",\"utc_offset\":null,\"time_zone\":null,\"geo_enabled\":true,\"lang\":\"th\",\"contributors_enabled\":false,\"is_translator\":false,\"profile_background_color\":\"C0DEED\",\"profile_background_image_url\":\"http:\\/\\/abs.twimg.com\\/images\\/themes\\/theme1\\/bg.png\",\"profile_background_image_url_https\":\"https:\\/\\/abs.twimg.com\\/images\\/themes\\/theme1\\/bg.png\",\"profile_background_tile\":false,\"profile_link_color\":\"0084B4\",\"profile_sidebar_border_color\":\"C0DEED\",\"profile_sidebar_fill_color\":\"DDEEF6\",\"profile_text_color\":\"333333\",\"profile_use_background_image\":true,\"profile_image_url\":\"http:\\/\\/pbs.twimg.com\\/profile_images\\/730370839397302272\\/IwJFfXde_normal.jpg\",\"profile_image_url_https\":\"https:\\/\\/pbs.twimg.com\\/profile_images\\/730370839397302272\\/IwJFfXde_normal.jpg\",\"profile_banner_url\":\"https:\\/\\/pbs.twimg.com\\/profile_banners\\/2819896465\\/1455618939\",\"default_profile\":true,\"default_profile_image\":false,\"following\":null,\"follow_request_sent\":null,\"notifications\":null},\"geo\":null,\"coordinates\":null,\"place\":null,\"contributors\":null,\"retweeted_status\":{\"created_at\":\"Tue May 17 02:27:44 +0000 2016\",\"id\":732397157722918913,\"id_str\":\"732397157722918913\",\"text\":\"160507 &lt;DATA 4PICS UPDATE&gt; \\n\\uc778\\ucc9c \\ucd9c\\uad6d \\ud83d\\udeeb\\ud83d\\udc95\\n\\n#Mark #\\ub9c8\\ud06c #GOT7 #\\uac13\\uc138\\ube10 https:\\/\\/t.co\\/i39eAaAmHA\",\"source\":\"\\u003ca href=\\\"http:\\/\\/twitter.com\\\" rel=\\\"nofollow\\\"\\u003eTwitter Web Client\\u003c\\/a\\u003e\",\"truncated\":false,\"in_reply_to_status_id\":null,\"in_reply_to_status_id_str\":null,\"in_reply_to_user_id\":null,\"in_reply_to_user_id_str\":null,\"in_reply_to_screen_name\":null,\"user\":{\"id\":2897468733,\"id_str\":\"2897468733\",\"name\":\"Aciddrop\",\"screen_name\":\"aciddrop0904\",\"location\":null,\"url\":\"http:\\/\\/aciddrop.tistory.com\\/\",\"description\":\"( \\u03b5:)\\u2312\\uff9e(.\\u03c9.)\\u2312\\uff9e(:3 )\\u2312\\uff9e(\\u02d9\\u03c9\\u02d9)      \\uac13\\uc138\\ube10 \\ub9c8\\ud06c \\ubc16\\uc5d0 \\uc5c6\\ub2e4!!    FOR GOT7 MARK TUAN.\",\"protected\":false,\"verified\":false,\"followers_count\":24511,\"friends_count\":25,\"listed_count\":674,\"favourites_count\":280,\"statuses_count\":1086,\"created_at\":\"Sat Nov 29 14:55:34 +0000 2014\",\"utc_offset\":-25200,\"time_zone\":\"Pacific Time (US & Canada)\",\"geo_enabled\":true,\"lang\":\"zh-cn\",\"contributors_enabled\":false,\"is_translator\":false,\"profile_background_color\":\"000000\",\"profile_background_image_url\":\"http:\\/\\/pbs.twimg.com\\/profile_background_images\\/669246327004368897\\/1WVck8V7.jpg\",\"profile_background_image_url_https\":\"https:\\/\\/pbs.twimg.com\\/profile_background_images\\/669246327004368897\\/1WVck8V7.jpg\",\"profile_background_tile\":true,\"profile_link_color\":\"F8CACC\",\"profile_sidebar_border_color\":\"000000\",\"profile_sidebar_fill_color\":\"000000\",\"profile_text_color\":\"000000\",\"profile_use_background_image\":true,\"profile_image_url\":\"http:\\/\\/pbs.twimg.com\\/profile_images\\/727031202788450304\\/VQLXmRUz_normal.jpg\",\"profile_image_url_https\":\"https:\\/\\/pbs.twimg.com\\/profile_images\\/727031202788450304\\/VQLXmRUz_normal.jpg\",\"profile_banner_url\":\"https:\\/\\/pbs.twimg.com\\/profile_banners\\/2897468733\\/1458384307\",\"default_profile\":false,\"default_profile_image\":false,\"following\":null,\"follow_request_sent\":null,\"notifications\":null},\"geo\":null,\"coordinates\":null,\"place\":null,\"contributors\":null,\"is_quote_status\":false,\"retweet_count\":222,\"favorite_count\":119,\"entities\":{\"hashtags\":[{\"text\":\"Mark\",\"indices\":[44,49]},{\"text\":\"\\ub9c8\\ud06c\",\"indices\":[50,53]},{\"text\":\"GOT7\",\"indices\":[54,59]},{\"text\":\"\\uac13\\uc138\\ube10\",\"indices\":[60,64]}],\"urls\":[],\"user_mentions\":[],\"symbols\":[],\"media\":[{\"id\":732397138160680960,\"id_str\":\"732397138160680960\",\"indices\":[65,88],\"media_url\":\"http:\\/\\/pbs.twimg.com\\/media\\/Cin_URaUgAAMX0_.jpg\",\"media_url_https\":\"https:\\/\\/pbs.twimg.com\\/media\\/Cin_URaUgAAMX0_.jpg\",\"url\":\"https:\\/\\/t.co\\/i39eAaAmHA\",\"display_url\":\"pic.twitter.com\\/i39eAaAmHA\",\"expanded_url\":\"http:\\/\\/twitter.com\\/aciddrop0904\\/status\\/732397157722918913\\/photo\\/1\",\"type\":\"photo\",\"sizes\":{\"small\":{\"w\":340,\"h\":510,\"resize\":\"fit\"},\"thumb\":{\"w\":150,\"h\":150,\"resize\":\"crop\"},\"large\":{\"w\":1000,\"h\":1500,\"resize\":\"fit\"},\"medium\":{\"w\":600,\"h\":900,\"resize\":\"fit\"}}}]},\"extended_entities\":{\"media\":[{\"id\":732397138160680960,\"id_str\":\"732397138160680960\",\"indices\":[65,88],\"media_url\":\"http:\\/\\/pbs.twimg.com\\/media\\/Cin_URaUgAAMX0_.jpg\",\"media_url_https\":\"https:\\/\\/pbs.twimg.com\\/media\\/Cin_URaUgAAMX0_.jpg\",\"url\":\"https:\\/\\/t.co\\/i39eAaAmHA\",\"display_url\":\"pic.twitter.com\\/i39eAaAmHA\",\"expanded_url\":\"http:\\/\\/twitter.com\\/aciddrop0904\\/status\\/732397157722918913\\/photo\\/1\",\"type\":\"photo\",\"sizes\":{\"small\":{\"w\":340,\"h\":510,\"resize\":\"fit\"},\"thumb\":{\"w\":150,\"h\":150,\"resize\":\"crop\"},\"large\":{\"w\":1000,\"h\":1500,\"resize\":\"fit\"},\"medium\":{\"w\":600,\"h\":900,\"resize\":\"fit\"}}},{\"id\":732397150827466753,\"id_str\":\"732397150827466753\",\"indices\":[65,88],\"media_url\":\"http:\\/\\/pbs.twimg.com\\/media\\/Cin_VAmUUAEPaJ-.jpg\",\"media_url_https\":\"https:\\/\\/pbs.twimg.com\\/media\\/Cin_VAmUUAEPaJ-.jpg\",\"url\":\"https:\\/\\/t.co\\/i39eAaAmHA\",\"display_url\":\"pic.twitter.com\\/i39eAaAmHA\",\"expanded_url\":\"http:\\/\\/twitter.com\\/aciddrop0904\\/status\\/732397157722918913\\/photo\\/1\",\"type\":\"photo\",\"sizes\":{\"small\":{\"w\":340,\"h\":510,\"resize\":\"fit\"},\"thumb\":{\"w\":150,\"h\":150,\"resize\":\"crop\"},\"large\":{\"w\":1000,\"h\":1500,\"resize\":\"fit\"},\"medium\":{\"w\":600,\"h\":900,\"resize\":\"fit\"}}},{\"id\":732397156250746880,\"id_str\":\"732397156250746880\",\"indices\":[65,88],\"media_url\":\"http:\\/\\/pbs.twimg.com\\/media\\/Cin_VUzVAAAaiMb.jpg\",\"media_url_https\":\"https:\\/\\/pbs.twimg.com\\/media\\/Cin_VUzVAAAaiMb.jpg\",\"url\":\"https:\\/\\/t.co\\/i39eAaAmHA\",\"display_url\":\"pic.twitter.com\\/i39eAaAmHA\",\"expanded_url\":\"http:\\/\\/twitter.com\\/aciddrop0904\\/status\\/732397157722918913\\/photo\\/1\",\"type\":\"photo\",\"sizes\":{\"small\":{\"w\":340,\"h\":510,\"resize\":\"fit\"},\"thumb\":{\"w\":150,\"h\":150,\"resize\":\"crop\"},\"large\":{\"w\":1000,\"h\":1500,\"resize\":\"fit\"},\"medium\":{\"w\":600,\"h\":900,\"resize\":\"fit\"}}},{\"id\":732397149313335296,\"id_str\":\"732397149313335296\",\"indices\":[65,88],\"media_url\":\"http:\\/\\/pbs.twimg.com\\/media\\/Cin_U69UgAAsiGa.jpg\",\"media_url_https\":\"https:\\/\\/pbs.twimg.com\\/media\\/Cin_U69UgAAsiGa.jpg\",\"url\":\"https:\\/\\/t.co\\/i39eAaAmHA\",\"display_url\":\"pic.twitter.com\\/i39eAaAmHA\",\"expanded_url\":\"http:\\/\\/twitter.com\\/aciddrop0904\\/status\\/732397157722918913\\/photo\\/1\",\"type\":\"photo\",\"sizes\":{\"large\":{\"w\":1000,\"h\":1500,\"resize\":\"fit\"},\"medium\":{\"w\":600,\"h\":900,\"resize\":\"fit\"},\"small\":{\"w\":340,\"h\":510,\"resize\":\"fit\"},\"thumb\":{\"w\":150,\"h\":150,\"resize\":\"crop\"}}}]},\"favorited\":false,\"retweeted\":false,\"possibly_sensitive\":false,\"filter_level\":\"low\",\"lang\":\"ko\"},\"is_quote_status\":false,\"retweet_count\":0,\"favorite_count\":0,\"entities\":{\"hashtags\":[{\"text\":\"Mark\",\"indices\":[62,67]},{\"text\":\"\\ub9c8\\ud06c\",\"indices\":[68,71]},{\"text\":\"GOT7\",\"indices\":[72,77]},{\"text\":\"\\uac13\\uc138\\ube10\",\"indices\":[78,82]}],\"urls\":[],\"user_mentions\":[{\"screen_name\":\"aciddrop0904\",\"name\":\"Aciddrop\",\"id\":2897468733,\"id_str\":\"2897468733\",\"indices\":[3,16]}],\"symbols\":[],\"media\":[{\"id\":732397138160680960,\"id_str\":\"732397138160680960\",\"indices\":[83,106],\"media_url\":\"http:\\/\\/pbs.twimg.com\\/media\\/Cin_URaUgAAMX0_.jpg\",\"media_url_https\":\"https:\\/\\/pbs.twimg.com\\/media\\/Cin_URaUgAAMX0_.jpg\",\"url\":\"https:\\/\\/t.co\\/i39eAaAmHA\",\"display_url\":\"pic.twitter.com\\/i39eAaAmHA\",\"expanded_url\":\"http:\\/\\/twitter.com\\/aciddrop0904\\/status\\/732397157722918913\\/photo\\/1\",\"type\":\"photo\",\"sizes\":{\"small\":{\"w\":340,\"h\":510,\"resize\":\"fit\"},\"thumb\":{\"w\":150,\"h\":150,\"resize\":\"crop\"},\"large\":{\"w\":1000,\"h\":1500,\"resize\":\"fit\"},\"medium\":{\"w\":600,\"h\":900,\"resize\":\"fit\"}},\"source_status_id\":732397157722918913,\"source_status_id_str\":\"732397157722918913\",\"source_user_id\":2897468733,\"source_user_id_str\":\"2897468733\"}]},\"extended_entities\":{\"media\":[{\"id\":732397138160680960,\"id_str\":\"732397138160680960\",\"indices\":[83,106],\"media_url\":\"http:\\/\\/pbs.twimg.com\\/media\\/Cin_URaUgAAMX0_.jpg\",\"media_url_https\":\"https:\\/\\/pbs.twimg.com\\/media\\/Cin_URaUgAAMX0_.jpg\",\"url\":\"https:\\/\\/t.co\\/i39eAaAmHA\",\"display_url\":\"pic.twitter.com\\/i39eAaAmHA\",\"expanded_url\":\"http:\\/\\/twitter.com\\/aciddrop0904\\/status\\/732397157722918913\\/photo\\/1\",\"type\":\"photo\",\"sizes\":{\"small\":{\"w\":340,\"h\":510,\"resize\":\"fit\"},\"thumb\":{\"w\":150,\"h\":150,\"resize\":\"crop\"},\"large\":{\"w\":1000,\"h\":1500,\"resize\":\"fit\"},\"medium\":{\"w\":600,\"h\":900,\"resize\":\"fit\"}},\"source_status_id\":732397157722918913,\"source_status_id_str\":\"732397157722918913\",\"source_user_id\":2897468733,\"source_user_id_str\":\"2897468733\"},{\"id\":732397150827466753,\"id_str\":\"732397150827466753\",\"indices\":[83,106],\"media_url\":\"http:\\/\\/pbs.twimg.com\\/media\\/Cin_VAmUUAEPaJ-.jpg\",\"media_url_https\":\"https:\\/\\/pbs.twimg.com\\/media\\/Cin_VAmUUAEPaJ-.jpg\",\"url\":\"https:\\/\\/t.co\\/i39eAaAmHA\",\"display_url\":\"pic.twitter.com\\/i39eAaAmHA\",\"expanded_url\":\"http:\\/\\/twitter.com\\/aciddrop0904\\/status\\/732397157722918913\\/photo\\/1\",\"type\":\"photo\",\"sizes\":{\"small\":{\"w\":340,\"h\":510,\"resize\":\"fit\"},\"thumb\":{\"w\":150,\"h\":150,\"resize\":\"crop\"},\"large\":{\"w\":1000,\"h\":1500,\"resize\":\"fit\"},\"medium\":{\"w\":600,\"h\":900,\"resize\":\"fit\"}},\"source_status_id\":732397157722918913,\"source_status_id_str\":\"732397157722918913\",\"source_user_id\":2897468733,\"source_user_id_str\":\"2897468733\"},{\"id\":732397156250746880,\"id_str\":\"732397156250746880\",\"indices\":[83,106],\"media_url\":\"http:\\/\\/pbs.twimg.com\\/media\\/Cin_VUzVAAAaiMb.jpg\",\"media_url_https\":\"https:\\/\\/pbs.twimg.com\\/media\\/Cin_VUzVAAAaiMb.jpg\",\"url\":\"https:\\/\\/t.co\\/i39eAaAmHA\",\"display_url\":\"pic.twitter.com\\/i39eAaAmHA\",\"expanded_url\":\"http:\\/\\/twitter.com\\/aciddrop0904\\/status\\/732397157722918913\\/photo\\/1\",\"type\":\"photo\",\"sizes\":{\"small\":{\"w\":340,\"h\":510,\"resize\":\"fit\"},\"thumb\":{\"w\":150,\"h\":150,\"resize\":\"crop\"},\"large\":{\"w\":1000,\"h\":1500,\"resize\":\"fit\"},\"medium\":{\"w\":600,\"h\":900,\"resize\":\"fit\"}},\"source_status_id\":732397157722918913,\"source_status_id_str\":\"732397157722918913\",\"source_user_id\":2897468733,\"source_user_id_str\":\"2897468733\"},{\"id\":732397149313335296,\"id_str\":\"732397149313335296\",\"indices\":[83,106],\"media_url\":\"http:\\/\\/pbs.twimg.com\\/media\\/Cin_U69UgAAsiGa.jpg\",\"media_url_https\":\"https:\\/\\/pbs.twimg.com\\/media\\/Cin_U69UgAAsiGa.jpg\",\"url\":\"https:\\/\\/t.co\\/i39eAaAmHA\",\"display_url\":\"pic.twitter.com\\/i39eAaAmHA\",\"expanded_url\":\"http:\\/\\/twitter.com\\/aciddrop0904\\/status\\/732397157722918913\\/photo\\/1\",\"type\":\"photo\",\"sizes\":{\"large\":{\"w\":1000,\"h\":1500,\"resize\":\"fit\"},\"medium\":{\"w\":600,\"h\":900,\"resize\":\"fit\"},\"small\":{\"w\":340,\"h\":510,\"resize\":\"fit\"},\"thumb\":{\"w\":150,\"h\":150,\"resize\":\"crop\"}},\"source_status_id\":732397157722918913,\"source_status_id_str\":\"732397157722918913\",\"source_user_id\":2897468733,\"source_user_id_str\":\"2897468733\"}]},\"favorited\":false,\"retweeted\":false,\"possibly_sensitive\":false,\"filter_level\":\"low\",\"lang\":\"ko\",\"timestamp_ms\":\"1463452950042\"}-- end\n",
      "\n",
      "\n",
      "start --{\"created_at\":\"Tue May 17 02:42:31 +0000 2016\",\"id\":732400878523547649,\"id_str\":\"732400878523547649\",\"text\":\"RT @business: A former banker has created a data-driven fine wine rating system with a 1,000-point scale https:\\/\\/t.co\\/GOQ3KDePjz https:\\/\\/t.\\u2026\",\"source\":\"\\u003ca href=\\\"http:\\/\\/twitter.com\\\" rel=\\\"nofollow\\\"\\u003eTwitter Web Client\\u003c\\/a\\u003e\",\"truncated\":false,\"in_reply_to_status_id\":null,\"in_reply_to_status_id_str\":null,\"in_reply_to_user_id\":null,\"in_reply_to_user_id_str\":null,\"in_reply_to_screen_name\":null,\"user\":{\"id\":18400326,\"id_str\":\"18400326\",\"name\":\"studentoflife\",\"screen_name\":\"studentoflife\",\"location\":\"One block outside Boulder, Co\",\"url\":null,\"description\":\"I love meeting new people, investing, helping people build new business', learning about everything, music, God, and Boulder :)\",\"protected\":false,\"verified\":false,\"followers_count\":7804,\"friends_count\":6848,\"listed_count\":136,\"favourites_count\":708,\"statuses_count\":38817,\"created_at\":\"Sat Dec 27 02:22:33 +0000 2008\",\"utc_offset\":-21600,\"time_zone\":\"Mountain Time (US & Canada)\",\"geo_enabled\":true,\"lang\":\"en\",\"contributors_enabled\":false,\"is_translator\":false,\"profile_background_color\":\"0099B9\",\"profile_background_image_url\":\"http:\\/\\/abs.twimg.com\\/images\\/themes\\/theme4\\/bg.gif\",\"profile_background_image_url_https\":\"https:\\/\\/abs.twimg.com\\/images\\/themes\\/theme4\\/bg.gif\",\"profile_background_tile\":false,\"profile_link_color\":\"0099B9\",\"profile_sidebar_border_color\":\"FFFFFF\",\"profile_sidebar_fill_color\":\"95E8EC\",\"profile_text_color\":\"3C3940\",\"profile_use_background_image\":true,\"profile_image_url\":\"http:\\/\\/pbs.twimg.com\\/profile_images\\/70447070\\/DSC03997_normal.JPG\",\"profile_image_url_https\":\"https:\\/\\/pbs.twimg.com\\/profile_images\\/70447070\\/DSC03997_normal.JPG\",\"profile_banner_url\":\"https:\\/\\/pbs.twimg.com\\/profile_banners\\/18400326\\/1386911828\",\"default_profile\":false,\"default_profile_image\":false,\"following\":null,\"follow_request_sent\":null,\"notifications\":null},\"geo\":null,\"coordinates\":null,\"place\":null,\"contributors\":null,\"retweeted_status\":{\"created_at\":\"Tue May 17 01:30:43 +0000 2016\",\"id\":732382810439360512,\"id_str\":\"732382810439360512\",\"text\":\"A former banker has created a data-driven fine wine rating system with a 1,000-point scale https:\\/\\/t.co\\/GOQ3KDePjz https:\\/\\/t.co\\/T4lxgBVG1y\",\"source\":\"\\u003ca href=\\\"http:\\/\\/www.hootsuite.com\\\" rel=\\\"nofollow\\\"\\u003eHootsuite\\u003c\\/a\\u003e\",\"truncated\":false,\"in_reply_to_status_id\":null,\"in_reply_to_status_id_str\":null,\"in_reply_to_user_id\":null,\"in_reply_to_user_id_str\":null,\"in_reply_to_screen_name\":null,\"user\":{\"id\":34713362,\"id_str\":\"34713362\",\"name\":\"Bloomberg\",\"screen_name\":\"business\",\"location\":\"New York and the World\",\"url\":\"http:\\/\\/www.bloomberg.com\",\"description\":\"The first word in business news.\",\"protected\":false,\"verified\":true,\"followers_count\":3155933,\"friends_count\":753,\"listed_count\":39065,\"favourites_count\":292,\"statuses_count\":148912,\"created_at\":\"Thu Apr 23 20:05:17 +0000 2009\",\"utc_offset\":-14400,\"time_zone\":\"Eastern Time (US & Canada)\",\"geo_enabled\":false,\"lang\":\"en\",\"contributors_enabled\":false,\"is_translator\":false,\"profile_background_color\":\"101112\",\"profile_background_image_url\":\"http:\\/\\/pbs.twimg.com\\/profile_background_images\\/544322097833467904\\/1fjpNCr9.jpeg\",\"profile_background_image_url_https\":\"https:\\/\\/pbs.twimg.com\\/profile_background_images\\/544322097833467904\\/1fjpNCr9.jpeg\",\"profile_background_tile\":true,\"profile_link_color\":\"3B94D9\",\"profile_sidebar_border_color\":\"DADADA\",\"profile_sidebar_fill_color\":\"EEEEEE\",\"profile_text_color\":\"666666\",\"profile_use_background_image\":true,\"profile_image_url\":\"http:\\/\\/pbs.twimg.com\\/profile_images\\/714946924105883648\\/4fgNVF4H_normal.jpg\",\"profile_image_url_https\":\"https:\\/\\/pbs.twimg.com\\/profile_images\\/714946924105883648\\/4fgNVF4H_normal.jpg\",\"profile_banner_url\":\"https:\\/\\/pbs.twimg.com\\/profile_banners\\/34713362\\/1418609243\",\"default_profile\":false,\"default_profile_image\":false,\"following\":null,\"follow_request_sent\":null,\"notifications\":null},\"geo\":null,\"coordinates\":null,\"place\":null,\"contributors\":null,\"is_quote_status\":false,\"retweet_count\":26,\"favorite_count\":27,\"entities\":{\"hashtags\":[],\"urls\":[{\"url\":\"https:\\/\\/t.co\\/GOQ3KDePjz\",\"expanded_url\":\"http:\\/\\/bloom.bg\\/1WuIu5U\",\"display_url\":\"bloom.bg\\/1WuIu5U\",\"indices\":[91,114]}],\"user_mentions\":[],\"symbols\":[],\"media\":[{\"id\":732382809927614464,\"id_str\":\"732382809927614464\",\"indices\":[115,138],\"media_url\":\"http:\\/\\/pbs.twimg.com\\/media\\/CinySQlWgAA7f__.jpg\",\"media_url_https\":\"https:\\/\\/pbs.twimg.com\\/media\\/CinySQlWgAA7f__.jpg\",\"url\":\"https:\\/\\/t.co\\/T4lxgBVG1y\",\"display_url\":\"pic.twitter.com\\/T4lxgBVG1y\",\"expanded_url\":\"http:\\/\\/twitter.com\\/business\\/status\\/732382810439360512\\/photo\\/1\",\"type\":\"photo\",\"sizes\":{\"large\":{\"w\":804,\"h\":812,\"resize\":\"fit\"},\"medium\":{\"w\":600,\"h\":606,\"resize\":\"fit\"},\"thumb\":{\"w\":150,\"h\":150,\"resize\":\"crop\"},\"small\":{\"w\":340,\"h\":343,\"resize\":\"fit\"}}}]},\"extended_entities\":{\"media\":[{\"id\":732382809927614464,\"id_str\":\"732382809927614464\",\"indices\":[115,138],\"media_url\":\"http:\\/\\/pbs.twimg.com\\/media\\/CinySQlWgAA7f__.jpg\",\"media_url_https\":\"https:\\/\\/pbs.twimg.com\\/media\\/CinySQlWgAA7f__.jpg\",\"url\":\"https:\\/\\/t.co\\/T4lxgBVG1y\",\"display_url\":\"pic.twitter.com\\/T4lxgBVG1y\",\"expanded_url\":\"http:\\/\\/twitter.com\\/business\\/status\\/732382810439360512\\/photo\\/1\",\"type\":\"photo\",\"sizes\":{\"large\":{\"w\":804,\"h\":812,\"resize\":\"fit\"},\"medium\":{\"w\":600,\"h\":606,\"resize\":\"fit\"},\"thumb\":{\"w\":150,\"h\":150,\"resize\":\"crop\"},\"small\":{\"w\":340,\"h\":343,\"resize\":\"fit\"}}}]},\"favorited\":false,\"retweeted\":false,\"possibly_sensitive\":false,\"filter_level\":\"low\",\"lang\":\"en\"},\"is_quote_status\":false,\"retweet_count\":0,\"favorite_count\":0,\"entities\":{\"hashtags\":[],\"urls\":[{\"url\":\"https:\\/\\/t.co\\/GOQ3KDePjz\",\"expanded_url\":\"http:\\/\\/bloom.bg\\/1WuIu5U\",\"display_url\":\"bloom.bg\\/1WuIu5U\",\"indices\":[105,128]}],\"user_mentions\":[{\"screen_name\":\"business\",\"name\":\"Bloomberg\",\"id\":34713362,\"id_str\":\"34713362\",\"indices\":[3,12]}],\"symbols\":[],\"media\":[{\"id\":732382809927614464,\"id_str\":\"732382809927614464\",\"indices\":[139,140],\"media_url\":\"http:\\/\\/pbs.twimg.com\\/media\\/CinySQlWgAA7f__.jpg\",\"media_url_https\":\"https:\\/\\/pbs.twimg.com\\/media\\/CinySQlWgAA7f__.jpg\",\"url\":\"https:\\/\\/t.co\\/T4lxgBVG1y\",\"display_url\":\"pic.twitter.com\\/T4lxgBVG1y\",\"expanded_url\":\"http:\\/\\/twitter.com\\/business\\/status\\/732382810439360512\\/photo\\/1\",\"type\":\"photo\",\"sizes\":{\"large\":{\"w\":804,\"h\":812,\"resize\":\"fit\"},\"medium\":{\"w\":600,\"h\":606,\"resize\":\"fit\"},\"thumb\":{\"w\":150,\"h\":150,\"resize\":\"crop\"},\"small\":{\"w\":340,\"h\":343,\"resize\":\"fit\"}},\"source_status_id\":732382810439360512,\"source_status_id_str\":\"732382810439360512\",\"source_user_id\":34713362,\"source_user_id_str\":\"34713362\"}]},\"extended_entities\":{\"media\":[{\"id\":732382809927614464,\"id_str\":\"732382809927614464\",\"indices\":[139,140],\"media_url\":\"http:\\/\\/pbs.twimg.com\\/media\\/CinySQlWgAA7f__.jpg\",\"media_url_https\":\"https:\\/\\/pbs.twimg.com\\/media\\/CinySQlWgAA7f__.jpg\",\"url\":\"https:\\/\\/t.co\\/T4lxgBVG1y\",\"display_url\":\"pic.twitter.com\\/T4lxgBVG1y\",\"expanded_url\":\"http:\\/\\/twitter.com\\/business\\/status\\/732382810439360512\\/photo\\/1\",\"type\":\"photo\",\"sizes\":{\"large\":{\"w\":804,\"h\":812,\"resize\":\"fit\"},\"medium\":{\"w\":600,\"h\":606,\"resize\":\"fit\"},\"thumb\":{\"w\":150,\"h\":150,\"resize\":\"crop\"},\"small\":{\"w\":340,\"h\":343,\"resize\":\"fit\"}},\"source_status_id\":732382810439360512,\"source_status_id_str\":\"732382810439360512\",\"source_user_id\":34713362,\"source_user_id_str\":\"34713362\"}]},\"favorited\":false,\"retweeted\":false,\"possibly_sensitive\":false,\"filter_level\":\"low\",\"lang\":\"en\",\"timestamp_ms\":\"1463452951447\"}-- end\n",
      "\n",
      "\n",
      "start --{\"created_at\":\"Tue May 17 02:42:32 +0000 2016\",\"id\":732400881614753793,\"id_str\":\"732400881614753793\",\"text\":\"New Post - \\\"COT Report Insights: Are Bears Ready To Step Up?\\\" https:\\/\\/t.co\\/RBKc08LGBN  by @hedgopia $GOLD $OIL $SPY https:\\/\\/t.co\\/D3IWDUnXAK\",\"source\":\"\\u003ca href=\\\"http:\\/\\/twitter.com\\\" rel=\\\"nofollow\\\"\\u003eTwitter Web Client\\u003c\\/a\\u003e\",\"truncated\":false,\"in_reply_to_status_id\":null,\"in_reply_to_status_id_str\":null,\"in_reply_to_user_id\":null,\"in_reply_to_user_id_str\":null,\"in_reply_to_screen_name\":null,\"user\":{\"id\":466333756,\"id_str\":\"466333756\",\"name\":\"See It Market\",\"screen_name\":\"seeitmarket\",\"location\":null,\"url\":\"http:\\/\\/www.seeitmarket.com\",\"description\":\"Research For Active Investors ~ As seen on Bloomberg, Wall Street Journal, Barron's, Reuters, MarketWatch & more.\",\"protected\":false,\"verified\":false,\"followers_count\":13692,\"friends_count\":318,\"listed_count\":567,\"favourites_count\":10476,\"statuses_count\":18602,\"created_at\":\"Tue Jan 17 09:02:07 +0000 2012\",\"utc_offset\":-18000,\"time_zone\":\"Central Time (US & Canada)\",\"geo_enabled\":false,\"lang\":\"en\",\"contributors_enabled\":false,\"is_translator\":false,\"profile_background_color\":\"0C0E12\",\"profile_background_image_url\":\"http:\\/\\/pbs.twimg.com\\/profile_background_images\\/503400376377171968\\/jzJEvho-.png\",\"profile_background_image_url_https\":\"https:\\/\\/pbs.twimg.com\\/profile_background_images\\/503400376377171968\\/jzJEvho-.png\",\"profile_background_tile\":true,\"profile_link_color\":\"147536\",\"profile_sidebar_border_color\":\"FFFFFF\",\"profile_sidebar_fill_color\":\"DDEEF6\",\"profile_text_color\":\"333333\",\"profile_use_background_image\":true,\"profile_image_url\":\"http:\\/\\/pbs.twimg.com\\/profile_images\\/469106632576622594\\/b1Fqom_s_normal.png\",\"profile_image_url_https\":\"https:\\/\\/pbs.twimg.com\\/profile_images\\/469106632576622594\\/b1Fqom_s_normal.png\",\"profile_banner_url\":\"https:\\/\\/pbs.twimg.com\\/profile_banners\\/466333756\\/1400679809\",\"default_profile\":false,\"default_profile_image\":false,\"following\":null,\"follow_request_sent\":null,\"notifications\":null},\"geo\":null,\"coordinates\":null,\"place\":null,\"contributors\":null,\"is_quote_status\":false,\"retweet_count\":0,\"favorite_count\":0,\"entities\":{\"hashtags\":[],\"urls\":[{\"url\":\"https:\\/\\/t.co\\/RBKc08LGBN\",\"expanded_url\":\"http:\\/\\/www.seeitmarket.com\\/commitment-of-traders-cot-data-bears-ready-step-trading-15674\\/\",\"display_url\":\"seeitmarket.com\\/commitment-of-\\u2026\",\"indices\":[62,85]}],\"user_mentions\":[{\"screen_name\":\"hedgopia\",\"name\":\"hedgopia\",\"id\":27746125,\"id_str\":\"27746125\",\"indices\":[90,99]}],\"symbols\":[{\"text\":\"GOLD\",\"indices\":[100,105]},{\"text\":\"OIL\",\"indices\":[106,110]},{\"text\":\"SPY\",\"indices\":[111,115]}],\"media\":[{\"id\":732400880746516481,\"id_str\":\"732400880746516481\",\"indices\":[116,139],\"media_url\":\"http:\\/\\/pbs.twimg.com\\/media\\/CioCuHoUUAEY8fS.jpg\",\"media_url_https\":\"https:\\/\\/pbs.twimg.com\\/media\\/CioCuHoUUAEY8fS.jpg\",\"url\":\"https:\\/\\/t.co\\/D3IWDUnXAK\",\"display_url\":\"pic.twitter.com\\/D3IWDUnXAK\",\"expanded_url\":\"http:\\/\\/twitter.com\\/seeitmarket\\/status\\/732400881614753793\\/photo\\/1\",\"type\":\"photo\",\"sizes\":{\"small\":{\"w\":340,\"h\":205,\"resize\":\"fit\"},\"large\":{\"w\":650,\"h\":392,\"resize\":\"fit\"},\"thumb\":{\"w\":150,\"h\":150,\"resize\":\"crop\"},\"medium\":{\"w\":600,\"h\":362,\"resize\":\"fit\"}}}]},\"extended_entities\":{\"media\":[{\"id\":732400880746516481,\"id_str\":\"732400880746516481\",\"indices\":[116,139],\"media_url\":\"http:\\/\\/pbs.twimg.com\\/media\\/CioCuHoUUAEY8fS.jpg\",\"media_url_https\":\"https:\\/\\/pbs.twimg.com\\/media\\/CioCuHoUUAEY8fS.jpg\",\"url\":\"https:\\/\\/t.co\\/D3IWDUnXAK\",\"display_url\":\"pic.twitter.com\\/D3IWDUnXAK\",\"expanded_url\":\"http:\\/\\/twitter.com\\/seeitmarket\\/status\\/732400881614753793\\/photo\\/1\",\"type\":\"photo\",\"sizes\":{\"small\":{\"w\":340,\"h\":205,\"resize\":\"fit\"},\"large\":{\"w\":650,\"h\":392,\"resize\":\"fit\"},\"thumb\":{\"w\":150,\"h\":150,\"resize\":\"crop\"},\"medium\":{\"w\":600,\"h\":362,\"resize\":\"fit\"}}}]},\"favorited\":false,\"retweeted\":false,\"possibly_sensitive\":false,\"filter_level\":\"low\",\"lang\":\"en\",\"timestamp_ms\":\"1463452952184\"}-- end\n",
      "\n"
     ]
    },
    {
     "ename": "KeyboardInterrupt",
     "evalue": "",
     "output_type": "error",
     "traceback": [
      "\u001b[1;31m---------------------------------------------------------------------------\u001b[0m",
      "\u001b[1;31mKeyboardInterrupt\u001b[0m                         Traceback (most recent call last)",
      "\u001b[1;32m<ipython-input-39-dd1a0cb5e027>\u001b[0m in \u001b[0;36m<module>\u001b[1;34m()\u001b[0m\n\u001b[1;32m----> 1\u001b[1;33m \u001b[1;32mfor\u001b[0m \u001b[0mline\u001b[0m \u001b[1;32min\u001b[0m \u001b[0mstream_data\u001b[0m\u001b[1;33m.\u001b[0m\u001b[0mget\u001b[0m\u001b[1;33m(\u001b[0m\u001b[1;33m)\u001b[0m\u001b[1;33m.\u001b[0m\u001b[0miter_lines\u001b[0m\u001b[1;33m(\u001b[0m\u001b[1;33m)\u001b[0m\u001b[1;33m:\u001b[0m\u001b[1;33m\u001b[0m\u001b[0m\n\u001b[0m\u001b[0;32m      2\u001b[0m     \u001b[1;32mif\u001b[0m \u001b[0mline\u001b[0m\u001b[1;33m:\u001b[0m\u001b[1;33m\u001b[0m\u001b[0m\n\u001b[0;32m      3\u001b[0m         \u001b[1;32mprint\u001b[0m\u001b[1;33m(\u001b[0m\u001b[1;34m'\\nstart --%s-- end\\n'\u001b[0m \u001b[1;33m%\u001b[0m \u001b[0mline\u001b[0m\u001b[1;33m)\u001b[0m\u001b[1;33m\u001b[0m\u001b[0m\n",
      "\u001b[1;32m/home/jason/anaconda/envs/spark-jupyter/lib/python2.7/site-packages/requests/models.pyc\u001b[0m in \u001b[0;36miter_lines\u001b[1;34m(self, chunk_size, decode_unicode, delimiter)\u001b[0m\n\u001b[0;32m    704\u001b[0m         \u001b[0mpending\u001b[0m \u001b[1;33m=\u001b[0m \u001b[0mNone\u001b[0m\u001b[1;33m\u001b[0m\u001b[0m\n\u001b[0;32m    705\u001b[0m \u001b[1;33m\u001b[0m\u001b[0m\n\u001b[1;32m--> 706\u001b[1;33m         \u001b[1;32mfor\u001b[0m \u001b[0mchunk\u001b[0m \u001b[1;32min\u001b[0m \u001b[0mself\u001b[0m\u001b[1;33m.\u001b[0m\u001b[0miter_content\u001b[0m\u001b[1;33m(\u001b[0m\u001b[0mchunk_size\u001b[0m\u001b[1;33m=\u001b[0m\u001b[0mchunk_size\u001b[0m\u001b[1;33m,\u001b[0m \u001b[0mdecode_unicode\u001b[0m\u001b[1;33m=\u001b[0m\u001b[0mdecode_unicode\u001b[0m\u001b[1;33m)\u001b[0m\u001b[1;33m:\u001b[0m\u001b[1;33m\u001b[0m\u001b[0m\n\u001b[0m\u001b[0;32m    707\u001b[0m \u001b[1;33m\u001b[0m\u001b[0m\n\u001b[0;32m    708\u001b[0m             \u001b[1;32mif\u001b[0m \u001b[0mpending\u001b[0m \u001b[1;32mis\u001b[0m \u001b[1;32mnot\u001b[0m \u001b[0mNone\u001b[0m\u001b[1;33m:\u001b[0m\u001b[1;33m\u001b[0m\u001b[0m\n",
      "\u001b[1;32m/home/jason/anaconda/envs/spark-jupyter/lib/python2.7/site-packages/requests/models.pyc\u001b[0m in \u001b[0;36mgenerate\u001b[1;34m()\u001b[0m\n\u001b[0;32m    662\u001b[0m             \u001b[1;32mif\u001b[0m \u001b[0mhasattr\u001b[0m\u001b[1;33m(\u001b[0m\u001b[0mself\u001b[0m\u001b[1;33m.\u001b[0m\u001b[0mraw\u001b[0m\u001b[1;33m,\u001b[0m \u001b[1;34m'stream'\u001b[0m\u001b[1;33m)\u001b[0m\u001b[1;33m:\u001b[0m\u001b[1;33m\u001b[0m\u001b[0m\n\u001b[0;32m    663\u001b[0m                 \u001b[1;32mtry\u001b[0m\u001b[1;33m:\u001b[0m\u001b[1;33m\u001b[0m\u001b[0m\n\u001b[1;32m--> 664\u001b[1;33m                     \u001b[1;32mfor\u001b[0m \u001b[0mchunk\u001b[0m \u001b[1;32min\u001b[0m \u001b[0mself\u001b[0m\u001b[1;33m.\u001b[0m\u001b[0mraw\u001b[0m\u001b[1;33m.\u001b[0m\u001b[0mstream\u001b[0m\u001b[1;33m(\u001b[0m\u001b[0mchunk_size\u001b[0m\u001b[1;33m,\u001b[0m \u001b[0mdecode_content\u001b[0m\u001b[1;33m=\u001b[0m\u001b[0mTrue\u001b[0m\u001b[1;33m)\u001b[0m\u001b[1;33m:\u001b[0m\u001b[1;33m\u001b[0m\u001b[0m\n\u001b[0m\u001b[0;32m    665\u001b[0m                         \u001b[1;32myield\u001b[0m \u001b[0mchunk\u001b[0m\u001b[1;33m\u001b[0m\u001b[0m\n\u001b[0;32m    666\u001b[0m                 \u001b[1;32mexcept\u001b[0m \u001b[0mProtocolError\u001b[0m \u001b[1;32mas\u001b[0m \u001b[0me\u001b[0m\u001b[1;33m:\u001b[0m\u001b[1;33m\u001b[0m\u001b[0m\n",
      "\u001b[1;32m/home/jason/anaconda/envs/spark-jupyter/lib/python2.7/site-packages/requests/packages/urllib3/response.pyc\u001b[0m in \u001b[0;36mstream\u001b[1;34m(self, amt, decode_content)\u001b[0m\n\u001b[0;32m    347\u001b[0m         \"\"\"\n\u001b[0;32m    348\u001b[0m         \u001b[1;32mif\u001b[0m \u001b[0mself\u001b[0m\u001b[1;33m.\u001b[0m\u001b[0mchunked\u001b[0m\u001b[1;33m:\u001b[0m\u001b[1;33m\u001b[0m\u001b[0m\n\u001b[1;32m--> 349\u001b[1;33m             \u001b[1;32mfor\u001b[0m \u001b[0mline\u001b[0m \u001b[1;32min\u001b[0m \u001b[0mself\u001b[0m\u001b[1;33m.\u001b[0m\u001b[0mread_chunked\u001b[0m\u001b[1;33m(\u001b[0m\u001b[0mamt\u001b[0m\u001b[1;33m,\u001b[0m \u001b[0mdecode_content\u001b[0m\u001b[1;33m=\u001b[0m\u001b[0mdecode_content\u001b[0m\u001b[1;33m)\u001b[0m\u001b[1;33m:\u001b[0m\u001b[1;33m\u001b[0m\u001b[0m\n\u001b[0m\u001b[0;32m    350\u001b[0m                 \u001b[1;32myield\u001b[0m \u001b[0mline\u001b[0m\u001b[1;33m\u001b[0m\u001b[0m\n\u001b[0;32m    351\u001b[0m         \u001b[1;32melse\u001b[0m\u001b[1;33m:\u001b[0m\u001b[1;33m\u001b[0m\u001b[0m\n",
      "\u001b[1;32m/home/jason/anaconda/envs/spark-jupyter/lib/python2.7/site-packages/requests/packages/urllib3/response.pyc\u001b[0m in \u001b[0;36mread_chunked\u001b[1;34m(self, amt, decode_content)\u001b[0m\n\u001b[0;32m    496\u001b[0m         \u001b[1;32mwith\u001b[0m \u001b[0mself\u001b[0m\u001b[1;33m.\u001b[0m\u001b[0m_error_catcher\u001b[0m\u001b[1;33m(\u001b[0m\u001b[1;33m)\u001b[0m\u001b[1;33m:\u001b[0m\u001b[1;33m\u001b[0m\u001b[0m\n\u001b[0;32m    497\u001b[0m             \u001b[1;32mwhile\u001b[0m \u001b[0mTrue\u001b[0m\u001b[1;33m:\u001b[0m\u001b[1;33m\u001b[0m\u001b[0m\n\u001b[1;32m--> 498\u001b[1;33m                 \u001b[0mself\u001b[0m\u001b[1;33m.\u001b[0m\u001b[0m_update_chunk_length\u001b[0m\u001b[1;33m(\u001b[0m\u001b[1;33m)\u001b[0m\u001b[1;33m\u001b[0m\u001b[0m\n\u001b[0m\u001b[0;32m    499\u001b[0m                 \u001b[1;32mif\u001b[0m \u001b[0mself\u001b[0m\u001b[1;33m.\u001b[0m\u001b[0mchunk_left\u001b[0m \u001b[1;33m==\u001b[0m \u001b[1;36m0\u001b[0m\u001b[1;33m:\u001b[0m\u001b[1;33m\u001b[0m\u001b[0m\n\u001b[0;32m    500\u001b[0m                     \u001b[1;32mbreak\u001b[0m\u001b[1;33m\u001b[0m\u001b[0m\n",
      "\u001b[1;32m/home/jason/anaconda/envs/spark-jupyter/lib/python2.7/site-packages/requests/packages/urllib3/response.pyc\u001b[0m in \u001b[0;36m_update_chunk_length\u001b[1;34m(self)\u001b[0m\n\u001b[0;32m    442\u001b[0m         \u001b[1;32mif\u001b[0m \u001b[0mself\u001b[0m\u001b[1;33m.\u001b[0m\u001b[0mchunk_left\u001b[0m \u001b[1;32mis\u001b[0m \u001b[1;32mnot\u001b[0m \u001b[0mNone\u001b[0m\u001b[1;33m:\u001b[0m\u001b[1;33m\u001b[0m\u001b[0m\n\u001b[0;32m    443\u001b[0m             \u001b[1;32mreturn\u001b[0m\u001b[1;33m\u001b[0m\u001b[0m\n\u001b[1;32m--> 444\u001b[1;33m         \u001b[0mline\u001b[0m \u001b[1;33m=\u001b[0m \u001b[0mself\u001b[0m\u001b[1;33m.\u001b[0m\u001b[0m_fp\u001b[0m\u001b[1;33m.\u001b[0m\u001b[0mfp\u001b[0m\u001b[1;33m.\u001b[0m\u001b[0mreadline\u001b[0m\u001b[1;33m(\u001b[0m\u001b[1;33m)\u001b[0m\u001b[1;33m\u001b[0m\u001b[0m\n\u001b[0m\u001b[0;32m    445\u001b[0m         \u001b[0mline\u001b[0m \u001b[1;33m=\u001b[0m \u001b[0mline\u001b[0m\u001b[1;33m.\u001b[0m\u001b[0msplit\u001b[0m\u001b[1;33m(\u001b[0m\u001b[1;34mb';'\u001b[0m\u001b[1;33m,\u001b[0m \u001b[1;36m1\u001b[0m\u001b[1;33m)\u001b[0m\u001b[1;33m[\u001b[0m\u001b[1;36m0\u001b[0m\u001b[1;33m]\u001b[0m\u001b[1;33m\u001b[0m\u001b[0m\n\u001b[0;32m    446\u001b[0m         \u001b[1;32mtry\u001b[0m\u001b[1;33m:\u001b[0m\u001b[1;33m\u001b[0m\u001b[0m\n",
      "\u001b[1;32m/home/jason/anaconda/envs/spark-jupyter/lib/python2.7/socket.pyc\u001b[0m in \u001b[0;36mreadline\u001b[1;34m(self, size)\u001b[0m\n\u001b[0;32m    449\u001b[0m             \u001b[1;32mwhile\u001b[0m \u001b[0mTrue\u001b[0m\u001b[1;33m:\u001b[0m\u001b[1;33m\u001b[0m\u001b[0m\n\u001b[0;32m    450\u001b[0m                 \u001b[1;32mtry\u001b[0m\u001b[1;33m:\u001b[0m\u001b[1;33m\u001b[0m\u001b[0m\n\u001b[1;32m--> 451\u001b[1;33m                     \u001b[0mdata\u001b[0m \u001b[1;33m=\u001b[0m \u001b[0mself\u001b[0m\u001b[1;33m.\u001b[0m\u001b[0m_sock\u001b[0m\u001b[1;33m.\u001b[0m\u001b[0mrecv\u001b[0m\u001b[1;33m(\u001b[0m\u001b[0mself\u001b[0m\u001b[1;33m.\u001b[0m\u001b[0m_rbufsize\u001b[0m\u001b[1;33m)\u001b[0m\u001b[1;33m\u001b[0m\u001b[0m\n\u001b[0m\u001b[0;32m    452\u001b[0m                 \u001b[1;32mexcept\u001b[0m \u001b[0merror\u001b[0m\u001b[1;33m,\u001b[0m \u001b[0me\u001b[0m\u001b[1;33m:\u001b[0m\u001b[1;33m\u001b[0m\u001b[0m\n\u001b[0;32m    453\u001b[0m                     \u001b[1;32mif\u001b[0m \u001b[0me\u001b[0m\u001b[1;33m.\u001b[0m\u001b[0margs\u001b[0m\u001b[1;33m[\u001b[0m\u001b[1;36m0\u001b[0m\u001b[1;33m]\u001b[0m \u001b[1;33m==\u001b[0m \u001b[0mEINTR\u001b[0m\u001b[1;33m:\u001b[0m\u001b[1;33m\u001b[0m\u001b[0m\n",
      "\u001b[1;32m/home/jason/anaconda/envs/spark-jupyter/lib/python2.7/ssl.pyc\u001b[0m in \u001b[0;36mrecv\u001b[1;34m(self, buflen, flags)\u001b[0m\n\u001b[0;32m    732\u001b[0m                     \u001b[1;34m\"non-zero flags not allowed in calls to recv() on %s\"\u001b[0m \u001b[1;33m%\u001b[0m\u001b[1;33m\u001b[0m\u001b[0m\n\u001b[0;32m    733\u001b[0m                     self.__class__)\n\u001b[1;32m--> 734\u001b[1;33m             \u001b[1;32mreturn\u001b[0m \u001b[0mself\u001b[0m\u001b[1;33m.\u001b[0m\u001b[0mread\u001b[0m\u001b[1;33m(\u001b[0m\u001b[0mbuflen\u001b[0m\u001b[1;33m)\u001b[0m\u001b[1;33m\u001b[0m\u001b[0m\n\u001b[0m\u001b[0;32m    735\u001b[0m         \u001b[1;32melse\u001b[0m\u001b[1;33m:\u001b[0m\u001b[1;33m\u001b[0m\u001b[0m\n\u001b[0;32m    736\u001b[0m             \u001b[1;32mreturn\u001b[0m \u001b[0mself\u001b[0m\u001b[1;33m.\u001b[0m\u001b[0m_sock\u001b[0m\u001b[1;33m.\u001b[0m\u001b[0mrecv\u001b[0m\u001b[1;33m(\u001b[0m\u001b[0mbuflen\u001b[0m\u001b[1;33m,\u001b[0m \u001b[0mflags\u001b[0m\u001b[1;33m)\u001b[0m\u001b[1;33m\u001b[0m\u001b[0m\n",
      "\u001b[1;32m/home/jason/anaconda/envs/spark-jupyter/lib/python2.7/ssl.pyc\u001b[0m in \u001b[0;36mread\u001b[1;34m(self, len, buffer)\u001b[0m\n\u001b[0;32m    619\u001b[0m                 \u001b[0mv\u001b[0m \u001b[1;33m=\u001b[0m \u001b[0mself\u001b[0m\u001b[1;33m.\u001b[0m\u001b[0m_sslobj\u001b[0m\u001b[1;33m.\u001b[0m\u001b[0mread\u001b[0m\u001b[1;33m(\u001b[0m\u001b[0mlen\u001b[0m\u001b[1;33m,\u001b[0m \u001b[0mbuffer\u001b[0m\u001b[1;33m)\u001b[0m\u001b[1;33m\u001b[0m\u001b[0m\n\u001b[0;32m    620\u001b[0m             \u001b[1;32melse\u001b[0m\u001b[1;33m:\u001b[0m\u001b[1;33m\u001b[0m\u001b[0m\n\u001b[1;32m--> 621\u001b[1;33m                 \u001b[0mv\u001b[0m \u001b[1;33m=\u001b[0m \u001b[0mself\u001b[0m\u001b[1;33m.\u001b[0m\u001b[0m_sslobj\u001b[0m\u001b[1;33m.\u001b[0m\u001b[0mread\u001b[0m\u001b[1;33m(\u001b[0m\u001b[0mlen\u001b[0m \u001b[1;32mor\u001b[0m \u001b[1;36m1024\u001b[0m\u001b[1;33m)\u001b[0m\u001b[1;33m\u001b[0m\u001b[0m\n\u001b[0m\u001b[0;32m    622\u001b[0m             \u001b[1;32mreturn\u001b[0m \u001b[0mv\u001b[0m\u001b[1;33m\u001b[0m\u001b[0m\n\u001b[0;32m    623\u001b[0m         \u001b[1;32mexcept\u001b[0m \u001b[0mSSLError\u001b[0m \u001b[1;32mas\u001b[0m \u001b[0mx\u001b[0m\u001b[1;33m:\u001b[0m\u001b[1;33m\u001b[0m\u001b[0m\n",
      "\u001b[1;31mKeyboardInterrupt\u001b[0m: "
     ]
    }
   ],
   "source": [
    "for line in stream_data.get().iter_lines():\n",
    "    if line:\n",
    "        print('\\nstart --%s-- end\\n' % line)"
   ]
  },
  {
   "cell_type": "code",
   "execution_count": null,
   "metadata": {
    "collapsed": true
   },
   "outputs": [],
   "source": []
  }
 ],
 "metadata": {
  "kernelspec": {
   "display_name": "Python 2",
   "language": "python",
   "name": "python2"
  },
  "language_info": {
   "codemirror_mode": {
    "name": "ipython",
    "version": 2
   },
   "file_extension": ".py",
   "mimetype": "text/x-python",
   "name": "python",
   "nbconvert_exporter": "python",
   "pygments_lexer": "ipython2",
   "version": "2.7.11"
  }
 },
 "nbformat": 4,
 "nbformat_minor": 0
}
