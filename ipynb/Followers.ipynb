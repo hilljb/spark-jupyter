{
 "cells": [
  {
   "cell_type": "code",
   "execution_count": 1,
   "metadata": {
    "collapsed": false
   },
   "outputs": [
    {
     "data": {
      "text/plain": [
       "<pyspark.context.SparkContext at 0x7f7a94031650>"
      ]
     },
     "execution_count": 1,
     "metadata": {},
     "output_type": "execute_result"
    }
   ],
   "source": [
    "sc"
   ]
  },
  {
   "cell_type": "markdown",
   "metadata": {},
   "source": [
    "### Recent Followers Tracked\n",
    "\n",
    "Using the REST API, we tracked new followers of Trump, Clinton, and Sanders over the span of one week. Each minute, we asked Twitter for the followers of each of the three candidates (using different API keys... technically against the terms of service), and we kept track of all known followers for each candidate in a Python set.\n",
    "\n",
    "We also calculated how new each follower was to Twitter in seconds and injected this data into the user's info. Thus, if a user happened to create an account on Twitter and follow Clinton 10 seconds later, we would identify this no later than 70 seconds after the user joined. We also added a \"candidate\" field so that we could identify which candidate the user had followed when we went back to look at the aggregate data.\n",
    "\n",
    "We will now read in the user JSON files and use SparkSQL to query the data."
   ]
  },
  {
   "cell_type": "code",
   "execution_count": 2,
   "metadata": {
    "collapsed": false
   },
   "outputs": [],
   "source": [
    "df = sqlContext.read.json('/home/anaconda/md0/data/2016_potus/users_all')\n",
    "df.registerTempTable('followers')"
   ]
  },
  {
   "cell_type": "markdown",
   "metadata": {
    "collapsed": true
   },
   "source": [
    "## Number of New Followers\n",
    "How many new followers did each candidate have?"
   ]
  },
  {
   "cell_type": "code",
   "execution_count": 5,
   "metadata": {
    "collapsed": false
   },
   "outputs": [
    {
     "data": {
      "text/plain": [
       "<matplotlib.axes._subplots.AxesSubplot at 0x7f7a62c96450>"
      ]
     },
     "execution_count": 5,
     "metadata": {},
     "output_type": "execute_result"
    },
    {
     "data": {
      "image/png": "[encoded data removed]",
      "text/plain": [
       "<matplotlib.figure.Figure at 0x7f7a601c7c10>"
      ]
     },
     "metadata": {},
     "output_type": "display_data"
    }
   ],
   "source": [
    "%matplotlib inline \n",
    "import seaborn as sns\n",
    "import matplotlib\n",
    "import warnings\n",
    "\n",
    "query = \"\"\"\n",
    "select\n",
    "    candidate, count(*) as new_followers\n",
    "from followers\n",
    "group by candidate\n",
    "\"\"\"\n",
    "dfp = sqlContext.sql(query).toPandas()\n",
    "\n",
    "sns.barplot(x=\"candidate\", y=\"new_followers\", data=dfp, palette=\"Paired\")"
   ]
  },
  {
   "cell_type": "markdown",
   "metadata": {},
   "source": [
    "## At First Glance...\n",
    "\n",
    "It appears that Trump is much more popular on Twitter. He gained nearly twice as many followers in the past week as Sanders, and still significantly more than Clinton gained. What else is going on here?\n",
    "\n",
    "Let's look at how long those users have had accounts on Twitter at the time they became Trump followers."
   ]
  },
  {
   "cell_type": "code",
   "execution_count": 14,
   "metadata": {
    "collapsed": false
   },
   "outputs": [
    {
     "data": {
      "image/png": "[encoded data removed]",
      "text/plain": [
       "<matplotlib.figure.Figure at 0x7f7a62feb2d0>"
      ]
     },
     "metadata": {},
     "output_type": "display_data"
    }
   ],
   "source": [
    "import numpy as np\n",
    "\n",
    "query = \"\"\"\n",
    "select\n",
    "    candidate as candidate,\n",
    "    created_at_age as age\n",
    "from followers\n",
    "\"\"\"\n",
    "dfp = sqlContext.sql(query).toPandas()\n",
    "\n",
    "sns.set(style=\"ticks\")\n",
    "\n",
    "ax = sns.boxplot(x=\"candidate\", y=\"age\", data=dfp, palette=\"RdBu\", whis=np.inf)\n",
    "ax.set_yscale(\"log\")"
   ]
  },
  {
   "cell_type": "markdown",
   "metadata": {},
   "source": [
    "## Statuses -vs- Followers -vs- Friends\n",
    "\n",
    "What are the p50 and p99 values for the numbers of statuses, followers, and friends a user has when the user has followed a candidate within two minutes of joining Twitter?"
   ]
  },
  {
   "cell_type": "code",
   "execution_count": 23,
   "metadata": {
    "collapsed": false
   },
   "outputs": [
    {
     "name": "stdout",
     "output_type": "stream",
     "text": [
      "+---------+----------+----------+----------+----------+----------+------------------+-----+\n",
      "|candidate|p50_status|p99_status|p50_follow|p99_follow|p50_friend|        p99_friend|  num|\n",
      "+---------+----------+----------+----------+----------+----------+------------------+-----+\n",
      "|    trump|       0.0|       1.0|       0.0|       2.0|      30.0|122.94000000000051|15407|\n",
      "|  clinton|       0.0|       1.0|       0.0|       2.0|      40.0|             100.0| 1804|\n",
      "|  sanders|       0.0|       1.0|       0.0|       1.0|      40.0|             100.0| 2645|\n",
      "+---------+----------+----------+----------+----------+----------+------------------+-----+\n",
      "\n"
     ]
    }
   ],
   "source": [
    "query = \"\"\"\n",
    "select\n",
    "    candidate,\n",
    "    percentile(statuses_count, 0.50) as p50_status,\n",
    "    percentile(statuses_count, 0.99) as p99_status,\n",
    "    percentile(followers_count, 0.50) as p50_follow,\n",
    "    percentile(followers_count, 0.99) as p99_follow,\n",
    "    percentile(friends_count, 0.50) as p50_friend,\n",
    "    percentile(friends_count, 0.99) as p99_friend,\n",
    "    count(*) as num\n",
    "from followers\n",
    "where created_at_age < 120\n",
    "group by candidate\n",
    "\"\"\"\n",
    "\n",
    "sqlContext.sql(query).show()"
   ]
  },
  {
   "cell_type": "code",
   "execution_count": 24,
   "metadata": {
    "collapsed": false
   },
   "outputs": [
    {
     "name": "stdout",
     "output_type": "stream",
     "text": [
      "+---------+----------+------------------+----------+------------------+----------+------------------+-----+\n",
      "|candidate|p50_status|        p99_status|p50_follow|        p99_follow|p50_friend|        p99_friend|  num|\n",
      "+---------+----------+------------------+----------+------------------+----------+------------------+-----+\n",
      "|    trump|      20.0|23187.800000000032|      18.0| 4256.800000000003|     100.0|3281.4000000000087|61521|\n",
      "|  clinton|      58.0|32972.759999999995|      35.0| 7352.759999999864|     155.0|3717.5199999999895|77525|\n",
      "|  sanders|     198.0| 48569.95999999999|      69.0|10504.719999999987|     204.0| 4431.559999999998|41137|\n",
      "+---------+----------+------------------+----------+------------------+----------+------------------+-----+\n",
      "\n"
     ]
    }
   ],
   "source": [
    "query = \"\"\"\n",
    "select\n",
    "    candidate,\n",
    "    percentile(statuses_count, 0.50) as p50_status,\n",
    "    percentile(statuses_count, 0.99) as p99_status,\n",
    "    percentile(followers_count, 0.50) as p50_follow,\n",
    "    percentile(followers_count, 0.99) as p99_follow,\n",
    "    percentile(friends_count, 0.50) as p50_friend,\n",
    "    percentile(friends_count, 0.99) as p99_friend,\n",
    "    count(*) as num\n",
    "from followers\n",
    "where created_at_age > 60*60*24\n",
    "group by candidate\n",
    "\"\"\"\n",
    "\n",
    "sqlContext.sql(query).show()"
   ]
  },
  {
   "cell_type": "code",
   "execution_count": 145,
   "metadata": {
    "collapsed": true
   },
   "outputs": [],
   "source": [
    "query = \"\"\"\n",
    "select\n",
    "    friends_count/created_at_age as friends_per_second,\n",
    "    floor(created_at_age/60) as minutes_on_twitter\n",
    "from followers\n",
    "where created_at_age < 1200\n",
    "\"\"\"\n",
    "dfp = sqlContext.sql(query).toPandas()"
   ]
  },
  {
   "cell_type": "code",
   "execution_count": 147,
   "metadata": {
    "collapsed": false
   },
   "outputs": [
    {
     "data": {
      "text/plain": [
       "(0, 1)"
      ]
     },
     "execution_count": 147,
     "metadata": {},
     "output_type": "execute_result"
    },
    {
     "data": {
      "image/png": "[encoded data removed]",
      "text/plain": [
       "<matplotlib.figure.Figure at 0x7f191de29990>"
      ]
     },
     "metadata": {},
     "output_type": "display_data"
    }
   ],
   "source": [
    "sns.set(style=\"ticks\")\n",
    "\n",
    "ax = sns.boxplot(x=\"minutes_on_twitter\", y=\"friends_per_second\", data=dfp, palette=\"Paired\", whis=np.inf)\n",
    "ax.set_ylim(0,1)"
   ]
  },
  {
   "cell_type": "code",
   "execution_count": null,
   "metadata": {
    "collapsed": true
   },
   "outputs": [],
   "source": []
  }
 ],
 "metadata": {
  "kernelspec": {
   "display_name": "Python 2",
   "language": "python",
   "name": "python2"
  },
  "language_info": {
   "codemirror_mode": {
    "name": "ipython",
    "version": 2
   },
   "file_extension": ".py",
   "mimetype": "text/x-python",
   "name": "python",
   "nbconvert_exporter": "python",
   "pygments_lexer": "ipython2",
   "version": "2.7.11"
  }
 },
 "nbformat": 4,
 "nbformat_minor": 0
}
